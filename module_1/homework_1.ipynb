{
 "cells": [
  {
   "cell_type": "code",
   "execution_count": 1,
   "id": "ccf6aa9f-9c0e-4db4-bc5a-6564845066c1",
   "metadata": {},
   "outputs": [],
   "source": [
    "# Questions"
   ]
  },
  {
   "cell_type": "code",
   "execution_count": 2,
   "id": "3167b8da-8613-403f-ab9d-9cceac4e1e41",
   "metadata": {},
   "outputs": [],
   "source": [
    "import requests\n",
    "import json\n",
    "from elasticsearch import Elasticsearch"
   ]
  },
  {
   "cell_type": "code",
   "execution_count": 3,
   "id": "059e0e94-5e2c-45ad-8a05-3094ff1da901",
   "metadata": {},
   "outputs": [],
   "source": [
    "from dotenv import load_dotenv\n",
    "load_dotenv()\n",
    "\n",
    "import os\n",
    "from groq import Groq\n",
    "\n",
    "client = Groq(\n",
    "    api_key=os.environ.get(\"GROQ_API_KEY\"),\n",
    ")"
   ]
  },
  {
   "cell_type": "code",
   "execution_count": 4,
   "id": "1500d383-70c9-4f56-8e88-4616ac2295f1",
   "metadata": {},
   "outputs": [],
   "source": [
    "def llm_response(prompt):\n",
    "    response = client.chat.completions.create(\n",
    "        messages=[\n",
    "            {\n",
    "                \"role\": \"user\",\n",
    "                \"content\": prompt,\n",
    "            }\n",
    "        ],\n",
    "        model=\"gemma2-9b-it\",\n",
    "        temperature=0.2,\n",
    "    )\n",
    "    return response.choices[0].message.content"
   ]
  },
  {
   "cell_type": "code",
   "execution_count": 5,
   "id": "fb5f7cd3-b2d4-45d5-bcf3-ebbdddc4a010",
   "metadata": {},
   "outputs": [],
   "source": [
    "docs_url = 'https://github.com/DataTalksClub/llm-zoomcamp/blob/main/01-intro/documents.json?raw=1'\n",
    "docs_response = requests.get(docs_url)\n",
    "documents_raw = docs_response.json()"
   ]
  },
  {
   "cell_type": "code",
   "execution_count": 6,
   "id": "f42f5d2c-966c-4a0a-abd0-80caaef9d155",
   "metadata": {},
   "outputs": [],
   "source": [
    "documents = []\n",
    "\n",
    "for course in documents_raw:\n",
    "    course_name = course[\"course\"]\n",
    "    \n",
    "    for doc in course[\"documents\"]:\n",
    "        doc[\"course\"] = course_name\n",
    "        documents.append(doc)"
   ]
  },
  {
   "cell_type": "code",
   "execution_count": 7,
   "id": "49911034-d43b-49ed-b8c0-ef0a915955ff",
   "metadata": {},
   "outputs": [],
   "source": [
    "es_client = Elasticsearch(\"http://elasticsearch:9200\")"
   ]
  },
  {
   "cell_type": "code",
   "execution_count": 8,
   "id": "5e3e52a4-bfc9-43dc-b9c4-0431d53ea1df",
   "metadata": {},
   "outputs": [],
   "source": [
    "index_settings = {\n",
    "    \"settings\": {\n",
    "        \"number_of_shards\": 1,\n",
    "        \"number_of_replicas\": 0\n",
    "    },\n",
    "    \"mappings\": {\n",
    "        \"properties\": {\n",
    "            \"text\": {\"type\": \"text\"},\n",
    "            \"section\": {\"type\": \"text\"},\n",
    "            \"question\": {\"type\": \"text\"},\n",
    "            \"course\": {\"type\": \"keyword\"} \n",
    "        }\n",
    "    }\n",
    "}"
   ]
  },
  {
   "cell_type": "code",
   "execution_count": 9,
   "id": "aea9456a-c4dc-49bd-93cf-9a8d37db739c",
   "metadata": {},
   "outputs": [
    {
     "data": {
      "text/plain": [
       "ObjectApiResponse({'acknowledged': True, 'shards_acknowledged': True, 'index': 'homework_1_course-questions'})"
      ]
     },
     "execution_count": 9,
     "metadata": {},
     "output_type": "execute_result"
    }
   ],
   "source": [
    "index_name =\"homework_1_course-questions\"\n",
    "\n",
    "es_client.indices.create(index=index_name, body=index_settings)"
   ]
  },
  {
   "cell_type": "code",
   "execution_count": 10,
   "id": "ada75034-81ad-434f-8d71-3617082e7963",
   "metadata": {},
   "outputs": [],
   "source": [
    "for doc in documents:\n",
    "    es_client.index(index=index_name, document=doc)"
   ]
  },
  {
   "cell_type": "code",
   "execution_count": 26,
   "id": "aa42884a-f826-491f-adcc-4f0e6c5f7813",
   "metadata": {},
   "outputs": [],
   "source": [
    "def elastic_search(query):\n",
    "    search_query = {\n",
    "        \"size\": 3,\n",
    "        \"query\": {\n",
    "            \"bool\": {\n",
    "                \"must\": {\n",
    "                    \"multi_match\": {\n",
    "                        \"query\": query,\n",
    "                        \"fields\": [\"question^4\", \"text\"],\n",
    "                        \"type\": \"best_fields\"\n",
    "                    }\n",
    "                },\n",
    "                #Comment the next lines to answer Q3\n",
    "                \"filter\": {\n",
    "                    \"term\": {\n",
    "                        \"course\": \"machine-learning-zoomcamp\"\n",
    "                    }\n",
    "                }\n",
    "            }\n",
    "        }\n",
    "    }\n",
    "    response =  es_client.search(index=index_name, body=search_query)\n",
    "    result_docs=[]\n",
    "    for hit in response[\"hits\"][\"hits\"]:\n",
    "        result_docs.append(hit)\n",
    "    \n",
    "    return result_docs"
   ]
  },
  {
   "cell_type": "markdown",
   "id": "2fe7c24c-cad4-4911-85e3-359b9482b952",
   "metadata": {},
   "source": [
    "# Q3"
   ]
  },
  {
   "cell_type": "code",
   "execution_count": 27,
   "id": "26183769-c5ce-425e-bb23-8327b90e09e9",
   "metadata": {},
   "outputs": [],
   "source": [
    "query = \"How do execute a command on a Kubernetes pod?\""
   ]
  },
  {
   "cell_type": "code",
   "execution_count": 34,
   "id": "eacd0240-5338-4ea3-b172-269e33a99f10",
   "metadata": {},
   "outputs": [
    {
     "data": {
      "text/plain": [
       "[44.50556, 35.433445, 33.70974]"
      ]
     },
     "execution_count": 34,
     "metadata": {},
     "output_type": "execute_result"
    }
   ],
   "source": [
    "scores_search_results = elastic_search(query)\n",
    "scores_search_results\n",
    "scores =[doc[\"_score\"] for doc in scores_search_results]\n",
    "scores"
   ]
  },
  {
   "cell_type": "markdown",
   "id": "ad3cd4db-a28b-4e7c-a423-0e25edeeecfa",
   "metadata": {},
   "source": [
    "# Q4"
   ]
  },
  {
   "cell_type": "code",
   "execution_count": 14,
   "id": "db1219ef-b30b-40fc-ad94-e4071dd8d6ba",
   "metadata": {},
   "outputs": [],
   "source": [
    "query = \"How do copy a file to a Docker container?\""
   ]
  },
  {
   "cell_type": "code",
   "execution_count": 15,
   "id": "ac7a756c-9a00-435e-87b5-59441081e353",
   "metadata": {},
   "outputs": [],
   "source": [
    "questions_search_results = elastic_search(query)\n",
    "questions = [doc[\"question\"] for doc in questions_search_results]"
   ]
  },
  {
   "cell_type": "code",
   "execution_count": 16,
   "id": "322317fd-824c-40b0-a376-e85e95f118e1",
   "metadata": {},
   "outputs": [
    {
     "data": {
      "text/plain": [
       "['How do I debug a docker container?',\n",
       " 'How do I copy files from my local machine to docker container?',\n",
       " 'How do I copy files from a different folder into docker container’s working directory?']"
      ]
     },
     "execution_count": 16,
     "metadata": {},
     "output_type": "execute_result"
    }
   ],
   "source": [
    "questions"
   ]
  },
  {
   "cell_type": "markdown",
   "id": "568e3ee5-8011-4f53-9d2c-9e3f98ddbb6f",
   "metadata": {},
   "source": [
    "# Q5"
   ]
  },
  {
   "cell_type": "code",
   "execution_count": 17,
   "id": "1ebd7815-081c-433f-82c0-0aa6f826660a",
   "metadata": {},
   "outputs": [],
   "source": [
    "def build_prompt(query, search_results):\n",
    "    prompt_template = \"\"\"\n",
    "You're a course teaching assistant. Answer the QUESTION based on the CONTEXT from the FAQ database.\n",
    "Use only the facts from the CONTEXT when answering the QUESTION.\n",
    "\n",
    "QUESTION: {question}\n",
    "\n",
    "CONTEXT:\n",
    "{context}\n",
    "\"\"\".strip()\n",
    "    \n",
    "    context = \"\"\n",
    "    for doc in search_results:\n",
    "        context = context + f\"Q: {doc['question']}\\nA: {doc['text']}\\n\\n\"\n",
    "\n",
    "    prompt = prompt_template.format(question=query, context=context).strip()\n",
    "    return prompt "
   ]
  },
  {
   "cell_type": "code",
   "execution_count": 18,
   "id": "1d2ae17c-c549-4dc8-aaeb-9a68047f7936",
   "metadata": {},
   "outputs": [
    {
     "name": "stdout",
     "output_type": "stream",
     "text": [
      "1446\n"
     ]
    }
   ],
   "source": [
    "search_results = elastic_search(query)\n",
    "prompt = build_prompt(query, search_results)\n",
    "print(len(prompt))"
   ]
  },
  {
   "cell_type": "markdown",
   "id": "5ec6402a-c9c6-40ef-889d-e8afda9e675a",
   "metadata": {},
   "source": [
    "# Q6"
   ]
  },
  {
   "cell_type": "code",
   "execution_count": 19,
   "id": "54a8f728-204a-4de0-95a7-d1df175eb342",
   "metadata": {},
   "outputs": [],
   "source": [
    "# !pip install tiktoken"
   ]
  },
  {
   "cell_type": "code",
   "execution_count": 20,
   "id": "363cd905-f536-420b-b13e-182271a91437",
   "metadata": {},
   "outputs": [],
   "source": [
    "import tiktoken\n",
    "encoding = tiktoken.encoding_for_model(\"gpt-4o\")"
   ]
  },
  {
   "cell_type": "code",
   "execution_count": 21,
   "id": "a49195be-34a8-4af0-b235-a37c0641c35e",
   "metadata": {},
   "outputs": [
    {
     "data": {
      "text/plain": [
       "320"
      ]
     },
     "execution_count": 21,
     "metadata": {},
     "output_type": "execute_result"
    }
   ],
   "source": [
    "# encoding.encode(prompt) returns int, each int is an id that represents a specific token, like a word or sub-word unit\n",
    "prompt_tokens = len(encoding.encode(prompt))\n",
    "prompt_tokens"
   ]
  },
  {
   "cell_type": "markdown",
   "id": "5f62db17-b1c8-4489-a2cb-399d223bec1e",
   "metadata": {},
   "source": [
    "# BONUS"
   ]
  },
  {
   "cell_type": "markdown",
   "id": "7bc47172-5e25-436d-99c2-38bc4d6f0949",
   "metadata": {},
   "source": [
    "## B1"
   ]
  },
  {
   "cell_type": "code",
   "execution_count": 22,
   "id": "a8aa1d19-b10c-4db2-a753-ed6d1da3d1a5",
   "metadata": {},
   "outputs": [],
   "source": [
    "def llm_response(prompt):\n",
    "    response = client.chat.completions.create(\n",
    "        messages=[\n",
    "            {\n",
    "                \"role\": \"user\",\n",
    "                \"content\": prompt,\n",
    "            }\n",
    "        ],\n",
    "        model=\"gemma2-9b-it\",\n",
    "        temperature=0.2,\n",
    "    )\n",
    "    return response.choices[0].message.content"
   ]
  },
  {
   "cell_type": "code",
   "execution_count": 23,
   "id": "1eb4a125-d817-4cfb-a9a4-8db974749c0d",
   "metadata": {},
   "outputs": [
    {
     "name": "stdout",
     "output_type": "stream",
     "text": [
      "How do copy a file to a Docker container?\n",
      "\n",
      "You can copy a file to a Docker container using the `docker cp` command. \n",
      "\n",
      "The basic syntax is:\n",
      "\n",
      "`docker cp /path/to/local/file_or_directory container_id:/path/in/container` \n",
      "\n"
     ]
    }
   ],
   "source": [
    "answer = llm_response(prompt)\n",
    "print(query + \"\\n\\n\" + answer)"
   ]
  },
  {
   "cell_type": "markdown",
   "id": "1f14b4a0-1523-4780-a22c-5a6aac3dca04",
   "metadata": {},
   "source": [
    "## B2"
   ]
  },
  {
   "cell_type": "code",
   "execution_count": 24,
   "id": "0b1b5815-6254-473f-8745-1fb23f098278",
   "metadata": {},
   "outputs": [
    {
     "data": {
      "text/plain": [
       "41"
      ]
     },
     "execution_count": 24,
     "metadata": {},
     "output_type": "execute_result"
    }
   ],
   "source": [
    "answer_tokens = len(encoding.encode(answer))\n",
    "answer_tokens"
   ]
  },
  {
   "cell_type": "code",
   "execution_count": 25,
   "id": "9f20fc0f-dd1c-45cd-b176-8d48e1746e6a",
   "metadata": {},
   "outputs": [
    {
     "name": "stdout",
     "output_type": "stream",
     "text": [
      "the total price is $0.002215\n"
     ]
    }
   ],
   "source": [
    "#if we used the prices/token for gpt4o:\n",
    "input_price = 0.005 / 1000\n",
    "output_price = 0.015 / 1000\n",
    "#then\n",
    "\n",
    "final_input_price = prompt_tokens * input_price\n",
    "final_output_price = answer_tokens * output_price\n",
    "\n",
    "final_price = final_input_price + final_output_price\n",
    "print(f\"the total price is ${final_price}\")"
   ]
  }
 ],
 "metadata": {
  "kernelspec": {
   "display_name": "Python 3 (ipykernel)",
   "language": "python",
   "name": "python3"
  },
  "language_info": {
   "codemirror_mode": {
    "name": "ipython",
    "version": 3
   },
   "file_extension": ".py",
   "mimetype": "text/x-python",
   "name": "python",
   "nbconvert_exporter": "python",
   "pygments_lexer": "ipython3",
   "version": "3.10.13"
  }
 },
 "nbformat": 4,
 "nbformat_minor": 5
}
